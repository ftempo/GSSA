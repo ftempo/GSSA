{
 "cells": [
  {
   "cell_type": "markdown",
   "metadata": {},
   "source": [
    "# Tutorial to estimate the Geographic Spectrum of Shared Alleles (GSSA)\n",
    "\n",
    "This is a tutorial for estimating the GSSA and use it to uncover the spatial dynamics of potential range expansions. You can run the ipython notebook that created this step-by-step estimation at *notebook/GSSA_calculation.ipynb*.\n"
   ]
  },
  {
   "cell_type": "markdown",
   "metadata": {},
   "source": [
    "## STEP 1. Estimating the geo-genetic and geographic-distance histograms\n",
    "\n",
    "First import the necessary packages:"
   ]
  },
  {
   "cell_type": "code",
   "execution_count": 1,
   "metadata": {},
   "outputs": [],
   "source": [
    "import os, sys, subprocess, warnings, math, itertools as it, numpy as np\n",
    "from collections import Counter\n",
    "from scipy import spatial\n",
    "import plotly, plotly.plotly as py, matplotlib.pyplot as plt, plotly.tools as tls, plotly.graph_objs as go\n",
    "plotly.tools.set_credentials_file(username='fern81', api_key='F5a4CnfP6WhcwvPlUYK8')\n",
    "import warnings\n",
    "warnings.filterwarnings('ignore')"
   ]
  },
  {
   "cell_type": "markdown",
   "metadata": {},
   "source": [
    "Then, define the path to the two input files necessary for this step:\n",
    "\n",
    "- file containing a *mSFS* file describing the joint site frequency spectrum for all sampled localities (see associated bitbucket repository for details on how to obtain this file from a vcf listing the sampled SNPs)\n",
    "\n",
    "- file listing either the geographic coordinates of sampled localities (one line per sampled locality) or the pairwise \n",
    "  effective distance between them [**note:** for the current example, we would use a geographic coordinates files]\n"
   ]
  },
  {
   "cell_type": "code",
   "execution_count": 2,
   "metadata": {},
   "outputs": [],
   "source": [
    "infilename = '../example_files/multiSFS_Sampled_SNPs.sfs'\n",
    "geoname = '../example_files/Sampled_locs.coord'"
   ]
  },
  {
   "cell_type": "markdown",
   "metadata": {},
   "source": [
    "Using the information contained in these two input files, the calculation proceeds by:\n",
    "\n",
    "- defining the output file's name:"
   ]
  },
  {
   "cell_type": "code",
   "execution_count": 3,
   "metadata": {},
   "outputs": [],
   "source": [
    "if '/' in infilename:\n",
    "    outdir = infilename.split('/')\n",
    "    outdir = '/'.join(outdir[:-1])\n",
    "    infile = infilename.split('/')[-1]\n",
    "else:\n",
    "    outdir = './'\n",
    "    infile = infilename\n",
    "    \n",
    "prefix = infile.replace('multiSFS_','').replace('.sfs','')\n",
    "outfilename = '%s/%s.histo' %(outdir, prefix)"
   ]
  },
  {
   "cell_type": "markdown",
   "metadata": {},
   "source": [
    "- reading the sampled localities' geographic file, extracting all pairwise geographic distances between them, and storing those distances in an *array* (**note:** the grographic file could either list the geographic coordinates of all sampled sites (file suffix \"*.coord*\"), or provide the pairwise distances between them )file siffix \"*.dist*\"):"
   ]
  },
  {
   "cell_type": "code",
   "execution_count": 4,
   "metadata": {},
   "outputs": [],
   "source": [
    "if geoname.endswith('coord'):\n",
    "    #reading in location coordinates and calculating geographic distance among them\n",
    "    coords = np.empty([1,3])\n",
    "    nloc = -1       #stores number of localities sampled\n",
    "    with open(geoname, 'r') as coordfile:\n",
    "        for line in coordfile:\n",
    "            nloc += 1\n",
    "            if nloc > 0:\n",
    "                row = line.strip().split()\n",
    "                row[0] = row[0].replace('P','')\n",
    "                coords = np.vstack((coords, [float(x) for x in row]))\n",
    "    coords = np.delete(coords,0,0)\n",
    "    EuD = spatial.distance.pdist(coords[:,1:],'euclidean')\n",
    "    AllEuD = list(EuD)\n",
    "    popnames = coords[:,0]\n",
    "    \n",
    "elif geoname.endswith('.dist'):\n",
    "    #reading in pairwise distances between locations\n",
    "    with open(geoname, 'r') as distfile:\n",
    "        n = 0\n",
    "        for line in distfile:\n",
    "            n += 1\n",
    "            if n == 1:\n",
    "                popnames = [float(x.replace('P','')) for x in line.strip().split(',')]\n",
    "                nloc = len(popnames)\n",
    "            else:\n",
    "                break\n",
    "    distmat = np.genfromtxt(geoname, delimiter=',')\n",
    "    distmat = np.delete(distmat,0,0)\n",
    "    AllEuD = []\n",
    "    n = -1\n",
    "    for r in xrange(np.shape(distmat)[0]):\n",
    "        n += 1\n",
    "        for c in xrange(np.shape(distmat)[1]):\n",
    "            if c > n and r!=c:\n",
    "                AllEuD.append(distmat[r,c])\n",
    "    EuD = np.array(AllEuD)\n",
    "\n",
    "else:\n",
    "    #stop with an error if the incorrect files are provided as input\n",
    "    sys.exist('Geography file should be either of type \".coord\" or \".dist\"')"
   ]
  },
  {
   "cell_type": "markdown",
   "metadata": {},
   "source": [
    "- creating a *list* with the definition of the entries on the *mSFS*, which indicate the set of combinations of minor alleles joint frequencies (see [fastsimcoal2 manual](http://cmpg.unibe.ch/software/fastsimcoal2/man/fastsimcoal26.pdf) for details). **NOTE:** currently this calculation assumes only 1 diploid individual per locality, and biallelic SNPs, though the script could be easily expanded to relax the first assumption."
   ]
  },
  {
   "cell_type": "code",
   "execution_count": 5,
   "metadata": {},
   "outputs": [],
   "source": [
    "combs = []\n",
    "for combi in it.product(range(3), repeat = nloc):\n",
    "    combs.append(combi)"
   ]
  },
  {
   "cell_type": "markdown",
   "metadata": {},
   "source": [
    "- labeling distance pairs in the pairwise distance array:"
   ]
  },
  {
   "cell_type": "code",
   "execution_count": 6,
   "metadata": {},
   "outputs": [],
   "source": [
    "comb = []\n",
    "for i in it.combinations(popnames, 2):\n",
    "    comb.append(str(int(i[0])) + '/' + str(int(i[1])))\n",
    "\n",
    "EuD = np.vstack((comb,EuD))"
   ]
  },
  {
   "cell_type": "markdown",
   "metadata": {},
   "source": [
    "- creating a common binning scheme for constructing both histograms using Sturge's (1926) rule:"
   ]
  },
  {
   "cell_type": "code",
   "execution_count": 7,
   "metadata": {},
   "outputs": [],
   "source": [
    "def sturges(vals):\n",
    "    N = len(vals)\n",
    "    nbins = math.ceil(math.log(N,2) + 1)\n",
    "    bins = np.linspace(min(vals), max(vals), nbins)\n",
    "    return list(bins)\n",
    "\n",
    "bins = sturges(AllEuD)\n",
    "bins.insert(0, 0.0)\n",
    "#a -1 is added below to the binning scheme to temporally store\n",
    "#the singleton SNPs, which are not used for the GSSA creation\n",
    "#as they are more prone to correspond to call errors\n",
    "bins.insert(0, -1.0)"
   ]
  },
  {
   "cell_type": "markdown",
   "metadata": {},
   "source": [
    "- creating a null histogram expectation exclusively based on samples' relative position to each other (i.e., generating the geographic-distance histogram)"
   ]
  },
  {
   "cell_type": "code",
   "execution_count": 8,
   "metadata": {},
   "outputs": [],
   "source": [
    "geobins = {}\n",
    "for l in list(popnames):\n",
    "    loc = str(int(l))\n",
    "    dists = [0]     #distance of each locality with itself, that is a distance of zero\n",
    "    for x in xrange(len(comb)):\n",
    "        if comb[x].startswith(loc+'/') or comb[x].endswith('/'+loc):\n",
    "            dists.append(AllEuD[x])\n",
    "    geo_hist = list(np.histogram(dists, bins)[0])\n",
    "    geobins.setdefault(loc, geo_hist[1:])"
   ]
  },
  {
   "cell_type": "markdown",
   "metadata": {},
   "source": [
    "-plotting the geographic histograms just created:"
   ]
  },
  {
   "cell_type": "code",
   "execution_count": null,
   "metadata": {},
   "outputs": [],
   "source": [
    "#plotting geographic-distance histograms\n",
    "if np.shape(coords)[0] % 2 == 0:\n",
    "    dim = np.shape(coords)[0] / 2\n",
    "else:\n",
    "    dim = np.shape(coords)[0] / 2 + 1\n",
    "xvals = range(1,len(geo_hist))\n",
    "mpl_fig, axs = plt.subplots(dim,2,figsize=(10,5))\n",
    "mpl_fig.suptitle('Geographic_histograms', fontsize=16)\n",
    "mpl_fig.text(0.04, 0.5, 'Frequency',va='center', rotation='vertical', fontsize=14)\n",
    "n = 0\n",
    "row = -1\n",
    "keys = [int(l) for l in geobins.keys()][:]\n",
    "keys.sort()\n",
    "for k in keys:\n",
    "    n += 1\n",
    "    if n%2==1:\n",
    "        row += 1\n",
    "        col = 0\n",
    "    elif n%2==0:\n",
    "        col = 1\n",
    "    name = 'Loc%s' %k\n",
    "    axs[row,col].axes.bar(xvals, geobins[str(k)], align='center', alpha=0.5, color='SkyBlue', label=name)\n",
    "    axs[row,col].xaxis.set_visible(False)\n",
    "    axs[row,col].legend(loc=\"upper right\")\n",
    "plotly_fig = tls.mpl_to_plotly(mpl_fig)\n",
    "figpath = outdir + '/geographic histogram'\n",
    "py.iplot(plotly_fig, filename=figpath)"
   ]
  },
  {
   "cell_type": "markdown",
   "metadata": {},
   "source": [
    "- reading *mSFS* file in and generating the geo-genetic histogram (called genHist below):"
   ]
  },
  {
   "cell_type": "code",
   "execution_count": 9,
   "metadata": {},
   "outputs": [],
   "source": [
    "with open(outfilename, 'w') as outfile:\n",
    "    #print header to output file storing geographic-distance and geo-genetic histograms\n",
    "    print >> outfile, 'Pop\\t%s\\t%s' %('\\t'.join(['geoB'+str(x) for x in range(1,(len(bins)-1))]), '\\t'.join(['genB'+str(x) for x in range((len(bins)-1))]))\n",
    "    \n",
    "    #read in mSFS file\n",
    "    pathF = infilename\n",
    "    n = 0\n",
    "    with open(pathF, 'r') as sfsfile:\n",
    "        genHist = {}\n",
    "        for line in sfsfile:\n",
    "            n += 1\n",
    "            \n",
    "            #setting a dictionary for each locality to store the aggregated relative spatial distribution of minor alleles (named as vector \"Si\" in the publication)\n",
    "            if n == 1:\n",
    "                pops = [str(int(x.replace('\"P','').replace('\"',''))) for x in line.strip().split()[-nloc:]]   #(int(p)-1 because dadi starts pops at 1, but populations in coordinate file are labeled starting at 0\n",
    "                for p in pops:\n",
    "                    genHist.setdefault(p,[])\n",
    "                if set(pops) != set([str(int(x)) for x in popnames]):\n",
    "                    os.remove(outfilename)\n",
    "                    sys.exit('Mismatched sampled localities and coordinates!')\n",
    "    \n",
    "            #estimating the aggregated relative spatial distribution of minor alleles for each individual (named as vector \"Si\" in the publication)\n",
    "            if n == 2:\n",
    "                sfs = [float(x) for x in line.strip().split()]\n",
    "                for xbin in xrange(len(sfs)):\n",
    "                    if sfs[xbin] > 0.0:\n",
    "                        #the next two lines check for splitted bins (i.e., non-integer) that are present in unfolded SFS\n",
    "                        if not float(sfs[xbin]).is_integer():\n",
    "                            os.remove(outfilename)\n",
    "                            sys.exit('Unfolded SFS provided, folded required!')\n",
    "                        #the next two lines check whether the combined frequency of each SNP is smaller than that of the alternative allele, which should be the case when using the minor allele for polarization\n",
    "                        if sum(list(combs[xbin])) > nloc:\n",
    "                            warnings.warn('Input SFS is not polarized based on minor allele')\n",
    "                        \n",
    "                        #storing the distance between copies of the minor alles for each SNP locus and individual\n",
    "                        for j in xrange(len(combs[xbin])):\n",
    "                            if combs[xbin][j] != 0:\n",
    "                                pop = pops[j]\n",
    "                                popsIN = [x for x in EuD[0,] if x.startswith(pop+'/') or x.endswith('/'+pop)]\n",
    "                                popsTO = [x.replace(pop+'/','').replace('/'+pop,'') for x in popsIN]\n",
    "                                indexes = [pops.index(x) for x in popsTO]\n",
    "                                indexPop = pops.index(pop)\n",
    "                                distpairs = []\n",
    "                                count = Counter(list(combs[xbin]))\n",
    "                                if count.get(0)==(nloc-1):\n",
    "                                    for freq in xrange(int(sfs[xbin])):\n",
    "                                        distpairs.append(-1.0)  #special value for private SNPs at frequency of 1. Because such allele may be an error, it is not actually consider in the ragedness index calculation, but here such instances are recorded just in case\n",
    "                                else:\n",
    "                                    if combs[xbin][j] == 2:\n",
    "                                        for freq in xrange(int(sfs[xbin])):\n",
    "                                            distpairs.append(0.0)\n",
    "                                    TOcombs = np.array([pops, list(combs[xbin])])\n",
    "                                    TOcombs = np.delete(TOcombs,indexPop,1)\n",
    "                                    for k in xrange(len(popsIN)):\n",
    "                                        ToPop = popsIN[k].split('/')\n",
    "                                        del ToPop[ToPop.index(pop)]\n",
    "                                        indexToPop = list(TOcombs[0,]).index(ToPop[0])\n",
    "                                        if TOcombs[1,indexToPop] != '0':\n",
    "                                            dist = float(EuD[1,list(EuD[0,]).index(popsIN[k])])\n",
    "                                            times = int(TOcombs[1,indexToPop]) * combs[xbin][j]\n",
    "                                            for t in xrange(times):\n",
    "                                                for freq in xrange(int(sfs[xbin])):\n",
    "                                                    distpairs.append(dist)\n",
    "                                genHist[pop].extend(distpairs)\n",
    "    \n",
    "    #writing out geographic-distance and geo-genetic histograms to file\n",
    "    for loc in [str(int(x)) for x in popnames]:\n",
    "        print >> outfile, 'P%s\\t%s\\t%s' %(loc, '\\t'.join([str(x) for x in geobins.get(loc)]), '\\t'.join([str(y) for y in list(np.histogram(genHist.get(loc), bins)[0])]))"
   ]
  },
  {
   "cell_type": "markdown",
   "metadata": {},
   "source": [
    "-plotting the geo-genetic histograms just created:"
   ]
  },
  {
   "cell_type": "code",
   "execution_count": null,
   "metadata": {},
   "outputs": [],
   "source": [
    "#plotting geo-genetic histograms\n",
    "list(np.histogram(genHist.get(loc), bins)[0])\n",
    "mpl_fig, axs = plt.subplots(dim,2,figsize=(10,5))\n",
    "mpl_fig.suptitle('Geo-genetic_histograms', fontsize=16)\n",
    "mpl_fig.text(0.04, 0.5, 'Frequency', va='center', rotation='vertical', fontsize=14)\n",
    "n = 0\n",
    "row = -1\n",
    "for k in keys:\n",
    "    n += 1\n",
    "    if n%2==1:\n",
    "        row += 1\n",
    "        col = 0\n",
    "    elif n%2==0:\n",
    "        col = 1\n",
    "    genBins = list(np.histogram(genHist.get(str(k)), bins)[0])[1:]\n",
    "    name = 'Loc%s' %k\n",
    "    axs[row,col].axes.bar(xvals, genBins, align='center', alpha=0.5, color='SkyBlue', label=name)\n",
    "    axs[row,col].xaxis.set_visible(False)\n",
    "    axs[row,col].legend(loc=\"upper right\")\n",
    "plotly_fig = tls.mpl_to_plotly(mpl_fig)\n",
    "figpath = outdir + '/geogenetic_histogram'\n",
    "py.iplot(plotly_fig, filename=figpath)  "
   ]
  },
  {
   "cell_type": "markdown",
   "metadata": {},
   "source": [
    "- printing output file name to be used in **next step**, which can be run following the other ipython notebook store in the *notebook/* directory named *GSSA_calculation_step2.ipynb*."
   ]
  },
  {
   "cell_type": "code",
   "execution_count": 10,
   "metadata": {},
   "outputs": [
    {
     "name": "stdout",
     "output_type": "stream",
     "text": [
      "../example_files/Sampled_SNPs.histo\n"
     ]
    }
   ],
   "source": [
    "print outfilename"
   ]
  },
  {
   "cell_type": "markdown",
   "metadata": {},
   "source": [
    "## STEP 2. Estimating the GSSA and inferring the sampled locality closest to the expansion source\n",
    "\n",
    "First load *R*:"
   ]
  },
  {
   "cell_type": "code",
   "execution_count": 11,
   "metadata": {},
   "outputs": [],
   "source": [
    "%load_ext rpy2.ipython\n",
    "\n",
    "import warnings \n",
    "warnings.filterwarnings('ignore')"
   ]
  },
  {
   "cell_type": "markdown",
   "metadata": {},
   "source": [
    "Next, import the necessary *R* packages:"
   ]
  },
  {
   "cell_type": "code",
   "execution_count": 12,
   "metadata": {},
   "outputs": [],
   "source": [
    "%%R \n",
    "suppressMessages(require(matrixStats))\n",
    "require(MASS)"
   ]
  },
  {
   "cell_type": "markdown",
   "metadata": {},
   "source": [
    "Then, define the path to the two input files necessary for this second step:\n",
    "\n",
    "- file generated in **Step 1** containing the geographic-distance and geo-genetic histograms (file suffix \"*.histo*\")\n",
    "\n",
    "- file listing the geographic information of sampled localities; either the geographic coordinates (file suffix \"*.coord*\") or the pairwise distances between localities (file suffix \"*.dist*\") [**note:** for the current example, we would use a geographic coordinates files]"
   ]
  },
  {
   "cell_type": "code",
   "execution_count": 13,
   "metadata": {},
   "outputs": [],
   "source": [
    "%%R \n",
    "infile = '../example_files/Sampled_SNPs.histo'\n",
    "geofile = '../example_files/Sampled_locs.coord'"
   ]
  },
  {
   "cell_type": "markdown",
   "metadata": {},
   "source": [
    "The calculation then proceeds by:\n",
    "\n",
    "- setting output file names:"
   ]
  },
  {
   "cell_type": "code",
   "execution_count": 14,
   "metadata": {},
   "outputs": [],
   "source": [
    "%%R \n",
    "File.prefix = sub('.histo', '', basename(infile))\n",
    "File.path = dirname(infile)\n",
    "resultsFile = sprintf('%s/%s_GSSA_results.tsv', File.path, File.prefix)\n",
    "raggFile = sprintf('%s/%s_raggedness_index.tsv', File.path, File.prefix) "
   ]
  },
  {
   "cell_type": "markdown",
   "metadata": {},
   "source": [
    "- reading the geographic file to get the number and names of sampled localities:"
   ]
  },
  {
   "cell_type": "code",
   "execution_count": 15,
   "metadata": {},
   "outputs": [],
   "source": [
    "%%R \n",
    "if (endsWith(geofile, '.coord')){\n",
    "    coord = read.table(geofile, header=T, sep='\\t')\n",
    "    dists = as.matrix(dist(coord[,2:3]))\n",
    "    colnames(dists) = coord$Pop\n",
    "} else {\n",
    "    if (endsWith(geofile, '.dist')){\n",
    "        dists = read.csv(geofile, header=T)\n",
    "        dists = as.matrix(dists, ncol=ncol(dists))\n",
    "    }\n",
    "}\n",
    "rownames(dists) = colnames(dists)\n",
    "popnames = colnames(dists)\n",
    "numloc = length(popnames)"
   ]
  },
  {
   "cell_type": "markdown",
   "metadata": {},
   "source": [
    "- reading histograms input file:"
   ]
  },
  {
   "cell_type": "code",
   "execution_count": 16,
   "metadata": {},
   "outputs": [],
   "source": [
    "%%R \n",
    "d = read.table(infile, header=TRUE, sep='\\t') "
   ]
  },
  {
   "cell_type": "markdown",
   "metadata": {},
   "source": [
    "- writing output files header:"
   ]
  },
  {
   "cell_type": "code",
   "execution_count": 17,
   "metadata": {},
   "outputs": [],
   "source": [
    "%%R \n",
    "write(paste('Source', 'Longitude', 'Latitude', sep='\\t'), file=resultsFile, append=F)\n",
    "write(paste(paste(d$Pop[1:numloc], collapse='\\t'), sep='\\t'), file=raggFile, append=F)"
   ]
  },
  {
   "cell_type": "markdown",
   "metadata": {},
   "source": [
    "- defining function to calculate the GSSA statistic:"
   ]
  },
  {
   "cell_type": "code",
   "execution_count": 18,
   "metadata": {},
   "outputs": [],
   "source": [
    "%%R \n",
    "GSSA.func = function(data){\n",
    "    #data = dataframe storing the geographic-distance and geo-genetic distances\n",
    "    \n",
    "    rownames(data) = data$Pop\n",
    "    geoBins = data[grep('geoB',names(data))]\n",
    "    genBins = data[grep('genB',names(data))[-1]]   \n",
    "    #the [-1] above is to remove the singleton category bin, which is not used in the GSSA calculation geoBins.corrected = genBins \\\n",
    "    genBins.corrected = genBins\n",
    "    genBins.corrected[which(!is.na(genBins.corrected), arr.ind=TRUE)] = NA\n",
    "    reg = lm(as.numeric(genBins) ~ as.numeric(geoBins))\n",
    "    for (i in 1:length(genBins.corrected)){\n",
    "        genBins.corrected[i] = abs(reg$residuals[i])\n",
    "    }\n",
    "    return(genBins.corrected)\n",
    "}"
   ]
  },
  {
   "cell_type": "markdown",
   "metadata": {},
   "source": [
    "- defining function to plot GSSA vectors for each sampled locality:"
   ]
  },
  {
   "cell_type": "code",
   "execution_count": 19,
   "metadata": {},
   "outputs": [],
   "source": [
    "%%R \n",
    "plot.gssa = function(x, Peaks){\n",
    "    #x = dataframe row storing the corrected geo-genetic distances (i.e., GSSA)\n",
    "    #Peaks = vector of estimated raggedness indexes\n",
    "    \n",
    "    if((length(Peaks) %% 2) == 0) {\n",
    "        rows = length(Peaks) / 2\n",
    "    } else {\n",
    "        rows = (length(Peaks) / 2) + 1\n",
    "    }\n",
    "    par(mfrow=c(rows,2))\n",
    "    \n",
    "    for (i in 1:nrow(x)){\n",
    "        x = x[order(Peaks),]\n",
    "        barplot(as.numeric(x[i,]), ylab='Frequency', main=sprintf('GSSA: %s [Rank: %d]', rownames(x)[i], i))\n",
    "    }\n",
    "}"
   ]
  },
  {
   "cell_type": "markdown",
   "metadata": {},
   "source": [
    "- defining a function to calculate Harpending's (1994) raggedness index:"
   ]
  },
  {
   "cell_type": "code",
   "execution_count": 20,
   "metadata": {},
   "outputs": [],
   "source": [
    "%%R \n",
    "diff.func = function(x){\n",
    "     #x = dataframe row storing the geographic-distance and corrected geo-genetic distances (i.e., GSSA)\n",
    "\n",
    "     require(MASS)\n",
    "     null = x[grep('geoB',names(x))]\n",
    "     sfs = x[grep('genB',names(x))]\n",
    "     non0bins = as.numeric(which(null!=0.0))\n",
    "     sfs = sfs[non0bins]\n",
    "     comb = combn(seq(length(sfs)),2)\n",
    "     paired = combn(sfs,2)\n",
    "     paired = paired[,which(colDiffs(comb)==1)]\n",
    "     paired = matrix(as.numeric(paired), nrow=2)\n",
    "     diffs2 = (colDiffs(paired))^2\n",
    "     return((sum(diffs2)/(length(non0bins)-1)))\n",
    "}"
   ]
  },
  {
   "cell_type": "markdown",
   "metadata": {},
   "source": [
    "- putting together all functions described above into a wrapper function to identify the sampled location closest to the expansion source, plot the GSSA vectors, and write results to outpu files:"
   ]
  },
  {
   "cell_type": "code",
   "execution_count": 21,
   "metadata": {},
   "outputs": [],
   "source": [
    "%%R \n",
    "ragg.func = function(data, numloc){\n",
    "    #data = dataframe storing the geographic-distance and geo-genetic distances\n",
    "    #numloc = number of sampled localities \n",
    "    \n",
    "    #estimating the GSSA vectors for each sampled population\n",
    "    #gssa = apply(data, 1, GSSA.func) --> for an unknow reason apply fails here in the notebook, so:\n",
    "    gssa = data.frame()\n",
    "    for (i in 1:nrow(data)){\n",
    "        gssa = rbind(gssa, GSSA.func(data[i,]))\n",
    "    }\n",
    "    gssa = as.data.frame(gssa)\n",
    "    \n",
    "    #calculating Harpending's (1994) raggedness index on GSSA vectors\n",
    "    #Peaks = apply(cbind(geoBins = data[grep('geoB',names(data))], gssa), 1, diff.func)  --> for an unknow reason apply fails here in the notebook, so:\n",
    "    Peaks = rep(NA,numloc)\n",
    "    names(Peaks) = popnames\n",
    "    for (i in 1:nrow(data)){\n",
    "        Peaks[i] = diff.func(cbind(geoBins = data[i,grep('geoB',names(data))], gssa[1,]))\n",
    "    } \n",
    "    \n",
    "    #identify sampled location closest to range expansion source\n",
    "    source = names(Peaks)[which.min(Peaks)]\n",
    "    if (endsWith(geofile, 'coordfile')){\n",
    "        coord.source = coord[which(coord$Pop == source), c('longitude', 'latitude')]\n",
    "    } else {\n",
    "        cat('\\nWARNING!: coordinate file not provided, potential source coordinates reported as NA\\n\\n')\n",
    "        coord.source = c(NA, NA)\n",
    "    }\n",
    "    \n",
    "    #write out results\n",
    "    write(paste(Peaks, collapse='\\t'), file=raggFile, append=T)\n",
    "    write(paste(source, as.numeric(coord.source[1]), as.numeric(coord.source[2]), sep='\\t'), file=resultsFile, append=T)\n",
    "    \n",
    "    #plot GSSA vectors (ordered by inferred time of colonization)\n",
    "    plot.gssa(gssa, Peaks)\n",
    "   }"
   ]
  },
  {
   "cell_type": "markdown",
   "metadata": {},
   "source": [
    "- estimating GSSA vectors and sampled lcoation closest to the range expansion source and plotting the GSSA vectors, ranked by estimated time of colonization:"
   ]
  },
  {
   "cell_type": "code",
   "execution_count": 22,
   "metadata": {},
   "outputs": [
    {
     "data": {
      "text/plain": [
       "\n",
       "WARNING!: coordinate file not provided, potential source coordinates reported as NA\n",
       "\n"
      ]
     },
     "metadata": {},
     "output_type": "display_data"
    },
    {
     "data": {
      "image/png": "[encoded data removed]"
     },
     "metadata": {},
     "output_type": "display_data"
    }
   ],
   "source": [
    "%%R\n",
    "ragg.func(d, numloc)"
   ]
  },
  {
   "cell_type": "code",
   "execution_count": null,
   "metadata": {},
   "outputs": [],
   "source": []
  }
 ],
 "metadata": {
  "kernelspec": {
   "display_name": "Python 2",
   "language": "python",
   "name": "python2"
  },
  "language_info": {
   "codemirror_mode": {
    "name": "ipython",
    "version": 2
   },
   "file_extension": ".py",
   "mimetype": "text/x-python",
   "name": "python",
   "nbconvert_exporter": "python",
   "pygments_lexer": "ipython2",
   "version": "2.7.15"
  }
 },
 "nbformat": 4,
 "nbformat_minor": 2
}
